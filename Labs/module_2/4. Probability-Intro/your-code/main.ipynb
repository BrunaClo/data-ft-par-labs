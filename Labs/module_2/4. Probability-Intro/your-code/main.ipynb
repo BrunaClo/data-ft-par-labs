{
 "cells": [
  {
   "cell_type": "markdown",
   "metadata": {},
   "source": [
    "# Introduction To Probability\n",
    "## Challenge 1\n",
    "\n",
    "A and B are events of a probability space with $(\\omega, \\sigma, P)$ such that $P(A) = 0.3$, $P(B) = 0.6$ and $P(A \\cap B) = 0.1$\n",
    "\n",
    "Which of the following statements are false?\n",
    "* $P(A \\cup B) = 0.6$\n",
    "* $P(A \\cap B^{C}) = 0.2$\n",
    "* $P(A \\cap (B \\cup B^{C})) = 0.4$\n",
    "* $P(A^{C} \\cap B^{C}) = 0.3$\n",
    "* $P((A \\cap B)^{C}) = 0.9$"
   ]
  },
  {
   "cell_type": "markdown",
   "metadata": {},
   "source": [
    "```Answer:```\n",
    "\n",
    "$P(A \\cup B) = P(A) + P(B) - P(A \\cap B) = 0.3 + 0.6 - 0.1 = 0.8 \\neq 0.6 \\rightarrow FALSE$ \n",
    "\n",
    "$P(A \\cap B^{C}) = P(A) - P(A \\cup B ) = 0.3 - 0.1 = 0.2 \\rightarrow TRUE$ \n",
    "\n",
    "$P(A \\cap (B \\cup B^{C})) = P(A) = 0.3 \\neq 0.4 \\rightarrow FALSE$ \n",
    "\n",
    "$P(A^{C} \\cap B^{C}) = 1 - P(A \\cup B) = 1 - 0.8 = 0.2 \\neq 0.3 \\rightarrow FALSE$ \n",
    "\n",
    "$P((A \\cap B)^{C}) = 1 - P(A \\cap B) = 1 - 0.1 = 0.9 \\rightarrow TRUE$ "
   ]
  },
  {
   "cell_type": "markdown",
   "metadata": {},
   "source": [
    "## Challenge 2\n",
    "There is a box with 10 white balls, 12 red balls and 8 black balls. Calculate the probability of:\n",
    "* Taking a white ball out.\n",
    "* Taking a white ball out after taking a black ball out.\n",
    "* Taking a red ball out after taking a black and a red ball out.\n",
    "* Taking a red ball out after taking a black and a red ball out with reposition.\n",
    "\n",
    "**Hint**: Reposition means putting back the ball into the box after taking it out."
   ]
  },
  {
   "cell_type": "markdown",
   "metadata": {},
   "source": [
    "```Answer:```\n",
    "    \n",
    "$P(W) = W / (W + R + K) = 10 /(10 + 12 + 8) = 0.3333333333333333$\n",
    "\n",
    "$P(K \\cap W) = P(K) · P(W|K) = (8/30) (10/29) = 0.09195402298850575$\n",
    "\n",
    "$P(R \\cap R\\cap K) = P(R \\cap K) · P(R|R \\cap K) = P(K) · P(R|K) · P(R|R \\cap K) = (8/30) · (12/29) · (11/28) = 0.04334975369458128$\n",
    "\n",
    "$P(R \\cap R\\cap K) = P(K) · P(R) · P(R) = (8/30) · (12/30) · (12/30) = 0.04266666666666667$"
   ]
  },
  {
   "cell_type": "markdown",
   "metadata": {},
   "source": [
    "## Challenge 3\n",
    "\n",
    "You are planning to go on a picnic today but the morning is cloudy. You hate rain so you don't know whether to go out or stay home! To help you make a decision, you gather the following data about rainy days:\n",
    "\n",
    "* 50% of all rainy days start off cloudy!\n",
    "* Cloudy mornings are common. About 40% of days start cloudy. \n",
    "* This month is usually dry so only 3 of 30 days (10%) tend to be rainy. \n",
    "\n",
    "What is the chance of rain during the day?"
   ]
  },
  {
   "cell_type": "markdown",
   "metadata": {},
   "source": [
    "```Answer:```\n",
    "\n",
    "According to Bayes Theorem:\n",
    "\n",
    "$ A $: It rains\n",
    "\n",
    "$ B $: It's cloudy\n",
    "\n",
    "$P(A|B) = P(B|A) · P(A) / P(B) = 0.5 · 0.1 / 0.4 = 0.125$ "
   ]
  },
  {
   "cell_type": "markdown",
   "metadata": {},
   "source": [
    "## Challenge 4\n",
    "\n",
    "One thousand people were asked through a telephone survey whether they thought more street lighting is needed at night or not.\n",
    "\n",
    "Out of the 480 men that answered the survey, 324 said yes and 156 said no. On the other hand, out of the 520 women that answered, 351 said yes and 169 said no. \n",
    "\n",
    "We wonder if men and women have a different opinions about the street lighting matter. Is gender relevant or irrelevant to the question?\n",
    "\n",
    "Consider the following events:\n",
    "- The answer is yes, so the person that answered thinks that more street lighting is needed.\n",
    "- The person who answered is a man.\n",
    "\n",
    "We want to know if these events are independent, that is, if the fact of wanting more light depends on whether one is male or female. Are these events independent or not?\n",
    "\n",
    "**Hint**: To clearly compare the answers by gender, it is best to place the data in a table."
   ]
  },
  {
   "cell_type": "code",
   "execution_count": null,
   "metadata": {},
   "outputs": [],
   "source": [
    "# your code here\n",
    "import pandas as pd"
   ]
  },
  {
   "cell_type": "code",
   "execution_count": null,
   "metadata": {
    "run_control": {
     "marked": false
    }
   },
   "outputs": [],
   "source": [
    "df = pd.DataFrame({'Yes': [324, 351/520], 'No': [156/480, 169/520]}, index=['Men', 'Women'])"
   ]
  },
  {
   "cell_type": "code",
   "execution_count": null,
   "metadata": {},
   "outputs": [],
   "source": [
    "df"
   ]
  },
  {
   "cell_type": "markdown",
   "metadata": {},
   "source": [
    "```Answer:```\n",
    "\n",
    "\n",
    "The answer doesn't depend on the gender. The events are independent."
   ]
  }
 ],
 "metadata": {
  "hide_input": false,
  "kernelspec": {
   "display_name": "Python 3",
   "language": "python",
   "name": "python3"
  },
  "language_info": {
   "codemirror_mode": {
    "name": "ipython",
    "version": 3
   },
   "file_extension": ".py",
   "mimetype": "text/x-python",
   "name": "python",
   "nbconvert_exporter": "python",
   "pygments_lexer": "ipython3",
   "version": "3.8.5"
  }
 },
 "nbformat": 4,
 "nbformat_minor": 2
}

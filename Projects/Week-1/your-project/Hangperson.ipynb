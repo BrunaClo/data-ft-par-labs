{
 "cells": [
  {
   "cell_type": "markdown",
   "metadata": {},
   "source": [
    "# HANGPERSON"
   ]
  },
  {
   "cell_type": "markdown",
   "metadata": {},
   "source": [
    "1. Would the word and the letter be choice from the user or the pc?\n",
    "2. "
   ]
  },
  {
   "cell_type": "markdown",
   "metadata": {},
   "source": [
    "MVP\n",
    "1. **1 Player\n",
    "2. **Import library of random word\n",
    "3. **Empty list of guessed word \n",
    "4. **Input the letter that will be guessed\n",
    " - if it’s right it has to replace “_” in the empty list of the word\n",
    " - if the guessed list == the word than you win \n",
    " - if it’s not right, add the letter in another list of the letters chosen\n",
    " - error of letters chosen twice  \n",
    "5. **Input the word that will be guessed\n",
    " - if it’s right “congrats”\n",
    " - if it’s not right \n",
    "8. 1 base 1 pole 1 head 1 body 1 right arm 1 left arm 1 right leg 1 left leg\n"
   ]
  },
  {
   "cell_type": "code",
   "execution_count": 1,
   "metadata": {},
   "outputs": [],
   "source": [
    "#C:\\Users\\bruna\\AppData\\Roaming\\nltk_data"
   ]
  },
  {
   "cell_type": "code",
   "execution_count": 2,
   "metadata": {},
   "outputs": [
    {
     "name": "stdout",
     "output_type": "stream",
     "text": [
      "showing info https://raw.githubusercontent.com/nltk/nltk_data/gh-pages/index.xml\n"
     ]
    },
    {
     "data": {
      "text/plain": [
       "True"
      ]
     },
     "execution_count": 2,
     "metadata": {},
     "output_type": "execute_result"
    }
   ],
   "source": [
    "import nltk\n",
    "nltk.download()\n",
    "\n"
   ]
  },
  {
   "cell_type": "code",
   "execution_count": 55,
   "metadata": {},
   "outputs": [
    {
     "name": "stdout",
     "output_type": "stream",
     "text": [
      "236736\n",
      "['aam', 'Aani', 'aardvark', 'aardwolf', 'Aaron']\n"
     ]
    }
   ],
   "source": [
    "from nltk.corpus import words\n",
    "\n",
    "word_list = words.words()\n",
    "\n",
    "print(len(word_list))\n",
    "print(word_list[5:10])"
   ]
  },
  {
   "cell_type": "code",
   "execution_count": 62,
   "metadata": {
    "scrolled": false
   },
   "outputs": [],
   "source": [
    "import random\n",
    "word_possible = []\n",
    "def secret_word():\n",
    "    for i in word_list:\n",
    "        if len(i) < 8 and len(i) > 3:\n",
    "            word_possible.append(i)\n",
    "            word_pc=random.choice(word_possible)\n",
    "    return word_pc.upper"
   ]
  },
  {
   "cell_type": "code",
   "execution_count": 64,
   "metadata": {},
   "outputs": [
    {
     "name": "stdout",
     "output_type": "stream",
     "text": [
      "scoon\n"
     ]
    }
   ],
   "source": [
    "print(word_pc)"
   ]
  },
  {
   "cell_type": "code",
   "execution_count": null,
   "metadata": {},
   "outputs": [],
   "source": []
  }
 ],
 "metadata": {
  "kernelspec": {
   "display_name": "Python 3",
   "language": "python",
   "name": "python3"
  },
  "language_info": {
   "codemirror_mode": {
    "name": "ipython",
    "version": 3
   },
   "file_extension": ".py",
   "mimetype": "text/x-python",
   "name": "python",
   "nbconvert_exporter": "python",
   "pygments_lexer": "ipython3",
   "version": "3.8.5"
  }
 },
 "nbformat": 4,
 "nbformat_minor": 4
}
